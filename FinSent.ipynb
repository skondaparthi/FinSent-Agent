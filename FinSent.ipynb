{
  "nbformat": 4,
  "nbformat_minor": 0,
  "metadata": {
    "colab": {
      "provenance": [],
      "authorship_tag": "ABX9TyMofrmiW9S86p2Cyju3FMGR",
      "include_colab_link": true
    },
    "kernelspec": {
      "name": "python3",
      "display_name": "Python 3"
    },
    "language_info": {
      "name": "python"
    }
  },
  "cells": [
    {
      "cell_type": "markdown",
      "metadata": {
        "id": "view-in-github",
        "colab_type": "text"
      },
      "source": [
        "<a href=\"https://colab.research.google.com/github/skondaparthi/FinSent-Agent/blob/main/FinSent.ipynb\" target=\"_parent\"><img src=\"https://colab.research.google.com/assets/colab-badge.svg\" alt=\"Open In Colab\"/></a>"
      ]
    },
    {
      "cell_type": "code",
      "execution_count": null,
      "metadata": {
        "id": "O8DZV8cCjBGh"
      },
      "outputs": [],
      "source": []
    },
    {
      "cell_type": "markdown",
      "metadata": {
        "id": "99ef9b1b"
      },
      "source": [
        "# Task\n",
        "Explain how to push code to GitHub from Google Colab."
      ]
    },
    {
      "cell_type": "markdown",
      "metadata": {
        "id": "a1b1513f"
      },
      "source": [
        "## Authenticate with github\n",
        "\n",
        "### Subtask:\n",
        "Generate a Personal Access Token (PAT) in GitHub and use it to authenticate within Colab.\n"
      ]
    },
    {
      "cell_type": "markdown",
      "metadata": {
        "id": "772cea4d"
      },
      "source": [
        "**Reasoning**:\n",
        "Install the `pygithub` library using pip in a Colab code cell.\n",
        "\n"
      ]
    },
    {
      "cell_type": "markdown",
      "source": [
        "from google.colab import userdata\n",
        "import os\n",
        "\n",
        "# Access the PAT from Colab's Secrets Manager\n",
        "github_pat = userdata.get('GITHUB_PAT')\n",
        "\n",
        "# Now you can use github_pat to authenticate with the GitHub API\n",
        "# For example, using the PyGithub library:\n",
        "from github import Github\n",
        "\n",
        "g = Github(github_pat)\n",
        "\n",
        "# You can verify your authentication by getting your user information\n",
        "try:\n",
        "    user = g.get_user()\n",
        "    print(f\"Authenticated as: {user.login}\")\n",
        "except Exception as e:\n",
        "    print(f\"Authentication failed: {e}\")"
      ],
      "metadata": {
        "id": "80cae91e"
      }
    },
    {
      "cell_type": "code",
      "source": [
        "cd mycode"
      ],
      "metadata": {
        "colab": {
          "base_uri": "https://localhost:8080/"
        },
        "id": "onWXXfY-mBCp",
        "outputId": "1639ef2b-1279-4810-e703-f594a3656c79"
      },
      "execution_count": 6,
      "outputs": [
        {
          "output_type": "stream",
          "name": "stdout",
          "text": [
            "/content/mycode\n"
          ]
        }
      ]
    }
  ]
}